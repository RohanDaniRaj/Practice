{
 "cells": [
  {
   "cell_type": "markdown",
   "id": "ab87f6cb-2aec-4244-8e78-a5e332da3f5b",
   "metadata": {},
   "source": [
    "# Data Science Tools and Ecosystem"
   ]
  },
  {
   "cell_type": "markdown",
   "id": "52ac45d0-0b0a-4ef9-b9f8-cb33cbc36590",
   "metadata": {},
   "source": [
    "In this notebook, Data Science Tools and Ecosystem are summarized."
   ]
  },
  {
   "cell_type": "markdown",
   "id": "52afb2e8-fa67-4785-9a69-017f97d93b61",
   "metadata": {},
   "source": [
    " **Objectives:**\n",
    "\n",
    "- To know the popular languages for Data Science\n",
    "- Get familiar with the Libraries for data science\n",
    "- Know about the tools that data scientists use\n",
    "- Revising table creation , code execution "
   ]
  },
  {
   "cell_type": "markdown",
   "id": "87309e84-df9b-4b44-8c46-bc16d79b0443",
   "metadata": {},
   "source": [
    "Some of the popular languages that Data Scientists use are:\n",
    "\n",
    "1. Python\n",
    "2. R\n",
    "3. Julia"
   ]
  },
  {
   "cell_type": "markdown",
   "id": "fb83d9cd-17f0-4657-ac36-429dfd7d30c1",
   "metadata": {},
   "source": [
    "Some of the commonly used libraries used by Data Scientists include:\n",
    "\n",
    "1. Numpy\n",
    "2. Pandas\n",
    "3. Matplotlib\n",
    "4. seaborn"
   ]
  },
  {
   "cell_type": "markdown",
   "id": "91e73bda-dd19-4177-94bf-22ad12b8fbff",
   "metadata": {},
   "source": [
    "| Data Science Tools |\n",
    "| ------- |\n",
    "| Jupyter Notebooks |\n",
    "| Google Colab |\n",
    "| Vs Code |\n",
    "| IBM Watson Studio |"
   ]
  },
  {
   "cell_type": "markdown",
   "id": "9f288bc3-d326-4e35-b87d-3e4780d08d7d",
   "metadata": {},
   "source": [
    "### Below are a few examples of evaluating arithmetic expressions in Python"
   ]
  },
  {
   "cell_type": "code",
   "execution_count": 2,
   "id": "33cab35e-d712-4939-b27a-7c1514eabb12",
   "metadata": {},
   "outputs": [
    {
     "data": {
      "text/plain": [
       "17"
      ]
     },
     "execution_count": 2,
     "metadata": {},
     "output_type": "execute_result"
    }
   ],
   "source": [
    "#This a simple arithmetic expression to mutiply then add integers\n",
    "\n",
    "(3*4)+5"
   ]
  },
  {
   "cell_type": "code",
   "execution_count": 5,
   "id": "8c582b3a-ca14-4a49-b706-e90f4dd390a3",
   "metadata": {},
   "outputs": [
    {
     "data": {
      "text/plain": [
       "3.3333333333333335"
      ]
     },
     "execution_count": 5,
     "metadata": {},
     "output_type": "execute_result"
    }
   ],
   "source": [
    "# This will convert 200 minutes to hours by diving by 60\n",
    "\n",
    "200/60"
   ]
  },
  {
   "cell_type": "markdown",
   "id": "d80e1592-c194-4aa5-a36c-f8dafd5579b0",
   "metadata": {},
   "source": [
    "## Author\n",
    "Rohan Dani Raj"
   ]
  },
  {
   "cell_type": "code",
   "execution_count": null,
   "id": "211d3a9f-05a9-442c-ba9e-0ae092dd79ea",
   "metadata": {},
   "outputs": [],
   "source": []
  }
 ],
 "metadata": {
  "kernelspec": {
   "display_name": "Python 3 (ipykernel)",
   "language": "python",
   "name": "python3"
  },
  "language_info": {
   "codemirror_mode": {
    "name": "ipython",
    "version": 3
   },
   "file_extension": ".py",
   "mimetype": "text/x-python",
   "name": "python",
   "nbconvert_exporter": "python",
   "pygments_lexer": "ipython3",
   "version": "3.11.7"
  }
 },
 "nbformat": 4,
 "nbformat_minor": 5
}
